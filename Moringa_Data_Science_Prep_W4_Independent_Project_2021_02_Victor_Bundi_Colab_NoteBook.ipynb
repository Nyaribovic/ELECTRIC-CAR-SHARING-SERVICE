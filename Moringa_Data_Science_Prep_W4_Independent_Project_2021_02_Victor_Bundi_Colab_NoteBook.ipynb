{
  "nbformat": 4,
  "nbformat_minor": 0,
  "metadata": {
    "colab": {
      "name": "Moringa_Data_Science_Prep_W4_Independent_Project_2021_02_Victor_Bundi_Colab_NoteBook.ipynb",
      "provenance": [],
      "collapsed_sections": []
    },
    "kernelspec": {
      "name": "python3",
      "display_name": "Python 3"
    }
  },
  "cells": [
    {
      "cell_type": "markdown",
      "metadata": {
        "id": "S3olJImohZfA"
      },
      "source": [
        "**LOADING LIBRARIES TO BE USED**"
      ]
    },
    {
      "cell_type": "code",
      "metadata": {
        "id": "enivDIw3ZUQ8"
      },
      "source": [
        "#import libraries to be used.\r\n",
        "import numpy as np  \r\n",
        "import pandas as pd\r\n",
        "import dateutil\r\n",
        "import matplotlib.pyplot as plt"
      ],
      "execution_count": 2,
      "outputs": []
    },
    {
      "cell_type": "markdown",
      "metadata": {
        "id": "6YEC5fSvh67C"
      },
      "source": [
        "**READING IN THE AUTOLIB DATASET**"
      ]
    },
    {
      "cell_type": "code",
      "metadata": {
        "id": "KEz9UPkRaGm7"
      },
      "source": [
        "#Importing  the Autolib_dataset\r\n",
        "url_path = 'http://bit.ly/autolib_dataset'\r\n",
        "Autolib_dataset = pd.read_csv(url_path)\r\n"
      ],
      "execution_count": 3,
      "outputs": []
    },
    {
      "cell_type": "markdown",
      "metadata": {
        "id": "OUQRmXU2jBfc"
      },
      "source": [
        "**DATA UNDERSTANDING**\r\n"
      ]
    },
    {
      "cell_type": "code",
      "metadata": {
        "colab": {
          "base_uri": "https://localhost:8080/",
          "height": 434
        },
        "id": "TNFoBYH_axbO",
        "outputId": "1736cc8a-46ba-407f-895e-c9d56d9b8705"
      },
      "source": [
        "##Preview  the Imported Autolib_dataset. \r\n",
        "Autolib_dataset.head(5)"
      ],
      "execution_count": 5,
      "outputs": [
        {
          "output_type": "execute_result",
          "data": {
            "text/html": [
              "<div>\n",
              "<style scoped>\n",
              "    .dataframe tbody tr th:only-of-type {\n",
              "        vertical-align: middle;\n",
              "    }\n",
              "\n",
              "    .dataframe tbody tr th {\n",
              "        vertical-align: top;\n",
              "    }\n",
              "\n",
              "    .dataframe thead th {\n",
              "        text-align: right;\n",
              "    }\n",
              "</style>\n",
              "<table border=\"1\" class=\"dataframe\">\n",
              "  <thead>\n",
              "    <tr style=\"text-align: right;\">\n",
              "      <th></th>\n",
              "      <th>Address</th>\n",
              "      <th>Cars</th>\n",
              "      <th>Bluecar counter</th>\n",
              "      <th>Utilib counter</th>\n",
              "      <th>Utilib 1.4 counter</th>\n",
              "      <th>Charge Slots</th>\n",
              "      <th>Charging Status</th>\n",
              "      <th>City</th>\n",
              "      <th>Displayed comment</th>\n",
              "      <th>ID</th>\n",
              "      <th>Kind</th>\n",
              "      <th>Geo point</th>\n",
              "      <th>Postal code</th>\n",
              "      <th>Public name</th>\n",
              "      <th>Rental status</th>\n",
              "      <th>Scheduled at</th>\n",
              "      <th>Slots</th>\n",
              "      <th>Station type</th>\n",
              "      <th>Status</th>\n",
              "      <th>Subscription status</th>\n",
              "      <th>year</th>\n",
              "      <th>month</th>\n",
              "      <th>day</th>\n",
              "      <th>hour</th>\n",
              "      <th>minute</th>\n",
              "    </tr>\n",
              "  </thead>\n",
              "  <tbody>\n",
              "    <tr>\n",
              "      <th>0</th>\n",
              "      <td>2 Avenue de Suffren</td>\n",
              "      <td>0</td>\n",
              "      <td>0</td>\n",
              "      <td>0</td>\n",
              "      <td>0</td>\n",
              "      <td>0</td>\n",
              "      <td>nonexistent</td>\n",
              "      <td>Paris</td>\n",
              "      <td>NaN</td>\n",
              "      <td>paris-suffren-2</td>\n",
              "      <td>STATION</td>\n",
              "      <td>48.857, 2.2917</td>\n",
              "      <td>75015</td>\n",
              "      <td>Paris/Suffren/2</td>\n",
              "      <td>operational</td>\n",
              "      <td>NaN</td>\n",
              "      <td>2</td>\n",
              "      <td>station</td>\n",
              "      <td>ok</td>\n",
              "      <td>nonexistent</td>\n",
              "      <td>2018</td>\n",
              "      <td>4</td>\n",
              "      <td>8</td>\n",
              "      <td>11</td>\n",
              "      <td>43</td>\n",
              "    </tr>\n",
              "    <tr>\n",
              "      <th>1</th>\n",
              "      <td>145 Rue Raymond Losserand</td>\n",
              "      <td>6</td>\n",
              "      <td>6</td>\n",
              "      <td>0</td>\n",
              "      <td>0</td>\n",
              "      <td>0</td>\n",
              "      <td>operational</td>\n",
              "      <td>Paris</td>\n",
              "      <td>NaN</td>\n",
              "      <td>paris-raymondlosserand-145</td>\n",
              "      <td>STATION</td>\n",
              "      <td>48.83126, 2.313088</td>\n",
              "      <td>75014</td>\n",
              "      <td>Paris/Raymond Losserand/145</td>\n",
              "      <td>operational</td>\n",
              "      <td>NaN</td>\n",
              "      <td>0</td>\n",
              "      <td>station</td>\n",
              "      <td>ok</td>\n",
              "      <td>nonexistent</td>\n",
              "      <td>2018</td>\n",
              "      <td>4</td>\n",
              "      <td>6</td>\n",
              "      <td>7</td>\n",
              "      <td>24</td>\n",
              "    </tr>\n",
              "    <tr>\n",
              "      <th>2</th>\n",
              "      <td>2 Avenue John Fitzgerald Kennedy</td>\n",
              "      <td>3</td>\n",
              "      <td>3</td>\n",
              "      <td>0</td>\n",
              "      <td>2</td>\n",
              "      <td>0</td>\n",
              "      <td>operational</td>\n",
              "      <td>Le Bourget</td>\n",
              "      <td>NaN</td>\n",
              "      <td>lebourget-johnfitzgeraldkennedy-2</td>\n",
              "      <td>STATION</td>\n",
              "      <td>48.938103, 2.4286035</td>\n",
              "      <td>93350</td>\n",
              "      <td>Le Bourget/John Fitzgerald Kennedy/2</td>\n",
              "      <td>operational</td>\n",
              "      <td>NaN</td>\n",
              "      <td>1</td>\n",
              "      <td>station</td>\n",
              "      <td>ok</td>\n",
              "      <td>nonexistent</td>\n",
              "      <td>2018</td>\n",
              "      <td>4</td>\n",
              "      <td>3</td>\n",
              "      <td>20</td>\n",
              "      <td>14</td>\n",
              "    </tr>\n",
              "    <tr>\n",
              "      <th>3</th>\n",
              "      <td>51 Rue EugÃ¨ne OudinÃ©</td>\n",
              "      <td>3</td>\n",
              "      <td>3</td>\n",
              "      <td>1</td>\n",
              "      <td>0</td>\n",
              "      <td>1</td>\n",
              "      <td>operational</td>\n",
              "      <td>Paris</td>\n",
              "      <td>NaN</td>\n",
              "      <td>paris-eugeneoudine-51</td>\n",
              "      <td>STATION</td>\n",
              "      <td>48.8250327, 2.3725162</td>\n",
              "      <td>75013</td>\n",
              "      <td>Paris/EugÃ¨ne OudinÃ©/51</td>\n",
              "      <td>operational</td>\n",
              "      <td>NaN</td>\n",
              "      <td>2</td>\n",
              "      <td>station</td>\n",
              "      <td>ok</td>\n",
              "      <td>nonexistent</td>\n",
              "      <td>2018</td>\n",
              "      <td>4</td>\n",
              "      <td>4</td>\n",
              "      <td>4</td>\n",
              "      <td>37</td>\n",
              "    </tr>\n",
              "    <tr>\n",
              "      <th>4</th>\n",
              "      <td>6 avenue de la Porte de Champerret</td>\n",
              "      <td>3</td>\n",
              "      <td>3</td>\n",
              "      <td>0</td>\n",
              "      <td>0</td>\n",
              "      <td>0</td>\n",
              "      <td>nonexistent</td>\n",
              "      <td>Paris</td>\n",
              "      <td>NaN</td>\n",
              "      <td>paris-portedechamperret-6</td>\n",
              "      <td>PARKING</td>\n",
              "      <td>48.8862632, 2.2874511</td>\n",
              "      <td>75017</td>\n",
              "      <td>Paris/Porte de Champerret/6</td>\n",
              "      <td>operational</td>\n",
              "      <td>NaN</td>\n",
              "      <td>3</td>\n",
              "      <td>station</td>\n",
              "      <td>ok</td>\n",
              "      <td>nonexistent</td>\n",
              "      <td>2018</td>\n",
              "      <td>4</td>\n",
              "      <td>8</td>\n",
              "      <td>17</td>\n",
              "      <td>23</td>\n",
              "    </tr>\n",
              "  </tbody>\n",
              "</table>\n",
              "</div>"
            ],
            "text/plain": [
              "                              Address  Cars  Bluecar counter  ...  day  hour  minute\n",
              "0                 2 Avenue de Suffren     0                0  ...    8    11      43\n",
              "1           145 Rue Raymond Losserand     6                6  ...    6     7      24\n",
              "2    2 Avenue John Fitzgerald Kennedy     3                3  ...    3    20      14\n",
              "3              51 Rue EugÃ¨ne OudinÃ©     3                3  ...    4     4      37\n",
              "4  6 avenue de la Porte de Champerret     3                3  ...    8    17      23\n",
              "\n",
              "[5 rows x 25 columns]"
            ]
          },
          "metadata": {
            "tags": []
          },
          "execution_count": 5
        }
      ]
    },
    {
      "cell_type": "code",
      "metadata": {
        "colab": {
          "base_uri": "https://localhost:8080/"
        },
        "id": "5W7bsY94bKIh",
        "outputId": "af6ef1bc-2127-4f12-8fae-993992d41a73"
      },
      "source": [
        "#Generate descriptive statistics for Autolib_dataset.\r\n",
        "Autolib_dataset.info()"
      ],
      "execution_count": 6,
      "outputs": [
        {
          "output_type": "stream",
          "text": [
            "<class 'pandas.core.frame.DataFrame'>\n",
            "RangeIndex: 5000 entries, 0 to 4999\n",
            "Data columns (total 25 columns):\n",
            " #   Column               Non-Null Count  Dtype \n",
            "---  ------               --------------  ----- \n",
            " 0   Address              5000 non-null   object\n",
            " 1   Cars                 5000 non-null   int64 \n",
            " 2   Bluecar counter      5000 non-null   int64 \n",
            " 3   Utilib counter       5000 non-null   int64 \n",
            " 4   Utilib 1.4 counter   5000 non-null   int64 \n",
            " 5   Charge Slots         5000 non-null   int64 \n",
            " 6   Charging Status      5000 non-null   object\n",
            " 7   City                 5000 non-null   object\n",
            " 8   Displayed comment    111 non-null    object\n",
            " 9   ID                   5000 non-null   object\n",
            " 10  Kind                 5000 non-null   object\n",
            " 11  Geo point            5000 non-null   object\n",
            " 12  Postal code          5000 non-null   int64 \n",
            " 13  Public name          5000 non-null   object\n",
            " 14  Rental status        5000 non-null   object\n",
            " 15  Scheduled at         47 non-null     object\n",
            " 16  Slots                5000 non-null   int64 \n",
            " 17  Station type         5000 non-null   object\n",
            " 18  Status               5000 non-null   object\n",
            " 19  Subscription status  5000 non-null   object\n",
            " 20  year                 5000 non-null   int64 \n",
            " 21  month                5000 non-null   int64 \n",
            " 22  day                  5000 non-null   int64 \n",
            " 23  hour                 5000 non-null   int64 \n",
            " 24  minute               5000 non-null   int64 \n",
            "dtypes: int64(12), object(13)\n",
            "memory usage: 976.7+ KB\n"
          ],
          "name": "stdout"
        }
      ]
    },
    {
      "cell_type": "code",
      "metadata": {
        "colab": {
          "base_uri": "https://localhost:8080/"
        },
        "id": "uXdA_sUgezF6",
        "outputId": "fc5fedd9-5eb6-4309-f3c1-d8fdabb8748d"
      },
      "source": [
        "#preview of the shape of DataFrame.\r\n",
        "#The search for missings is usually one of the first steps in data analysis. \r\n",
        "Autolib_dataset.shape"
      ],
      "execution_count": 7,
      "outputs": [
        {
          "output_type": "execute_result",
          "data": {
            "text/plain": [
              "(5000, 25)"
            ]
          },
          "metadata": {
            "tags": []
          },
          "execution_count": 7
        }
      ]
    },
    {
      "cell_type": "markdown",
      "metadata": {
        "id": "jKnToNdvmuKp"
      },
      "source": [
        "**DATA PREPARATION** "
      ]
    },
    {
      "cell_type": "code",
      "metadata": {
        "colab": {
          "base_uri": "https://localhost:8080/"
        },
        "id": "AIgl5m45jm8Q",
        "outputId": "9e4d039a-b317-4184-c36e-c92ba10a885b"
      },
      "source": [
        "#check if there are any missing values.\r\n",
        "Autolib_dataset.isna().any().any()"
      ],
      "execution_count": 8,
      "outputs": [
        {
          "output_type": "execute_result",
          "data": {
            "text/plain": [
              "True"
            ]
          },
          "metadata": {
            "tags": []
          },
          "execution_count": 8
        }
      ]
    },
    {
      "cell_type": "code",
      "metadata": {
        "colab": {
          "base_uri": "https://localhost:8080/"
        },
        "id": "hB_9HzamkaaT",
        "outputId": "947ca599-5b77-4892-e797-8e8e83bfc1f1"
      },
      "source": [
        "#The frequency of Missings values.\r\n",
        "#At the beginning, the question is whether there are any missings at all and, if so, how many there are.\r\n",
        "Autolib_dataset.isna().sum().sum()"
      ],
      "execution_count": 55,
      "outputs": [
        {
          "output_type": "execute_result",
          "data": {
            "text/plain": [
              "9842"
            ]
          },
          "metadata": {
            "tags": []
          },
          "execution_count": 55
        }
      ]
    },
    {
      "cell_type": "code",
      "metadata": {
        "colab": {
          "base_uri": "https://localhost:8080/"
        },
        "id": "YoQUIjtjbk9q",
        "outputId": "7ddea5eb-b9ff-48ab-85e3-d94a59cdb695"
      },
      "source": [
        "#Dropping the unnecessary columns.\r\n",
        "#Displayed comment: The column has very few entries 111 and adds no value to our analysis\r\n",
        "#Public name:The column adds no value to our analyis\r\n",
        "#Address :The column adds no value to our analyis\r\n",
        "#Scheduled at: Has very few entries  only 47 in numbers\r\n",
        "##Geo point: Since we are not creating maps it adds little value to our analysis.\r\n",
        "#Subscription status :Lack of diversity in the column data hence adds little information on the analysis\r\n",
        "\r\n",
        "Autolib_clean=Autolib_dataset.drop(columns=['Displayed comment','Public name','Address','Scheduled at' ,'Geo point','Subscription status' ])\r\n",
        "Autolib_clean.shape"
      ],
      "execution_count": 9,
      "outputs": [
        {
          "output_type": "execute_result",
          "data": {
            "text/plain": [
              "(5000, 19)"
            ]
          },
          "metadata": {
            "tags": []
          },
          "execution_count": 9
        }
      ]
    },
    {
      "cell_type": "code",
      "metadata": {
        "colab": {
          "base_uri": "https://localhost:8080/"
        },
        "id": "K7Gxsc3Vl6MP",
        "outputId": "111538c4-1eec-4d0c-bffa-ba7936dd08c3"
      },
      "source": [
        "# dropping duplicate values \r\n",
        "Autolib_clean.drop_duplicates(keep=False,inplace=True) \r\n",
        "Autolib_clean.shape"
      ],
      "execution_count": 10,
      "outputs": [
        {
          "output_type": "execute_result",
          "data": {
            "text/plain": [
              "(5000, 19)"
            ]
          },
          "metadata": {
            "tags": []
          },
          "execution_count": 10
        }
      ]
    },
    {
      "cell_type": "code",
      "metadata": {
        "colab": {
          "base_uri": "https://localhost:8080/",
          "height": 417
        },
        "id": "jkpTOxl4kbCp",
        "outputId": "03c7a503-7ccf-4ec0-df24-fcd144d37821"
      },
      "source": [
        "#Create a column for timestamp\r\n",
        "Autolib_clean['Timestamp']= pd.to_datetime(Autolib_clean[['year', 'month', 'day', 'hour', 'minute']])\r\n",
        "Autolib_Timestamp=Autolib_clean\r\n",
        "Autolib_Timestamp.head(5)"
      ],
      "execution_count": 11,
      "outputs": [
        {
          "output_type": "execute_result",
          "data": {
            "text/html": [
              "<div>\n",
              "<style scoped>\n",
              "    .dataframe tbody tr th:only-of-type {\n",
              "        vertical-align: middle;\n",
              "    }\n",
              "\n",
              "    .dataframe tbody tr th {\n",
              "        vertical-align: top;\n",
              "    }\n",
              "\n",
              "    .dataframe thead th {\n",
              "        text-align: right;\n",
              "    }\n",
              "</style>\n",
              "<table border=\"1\" class=\"dataframe\">\n",
              "  <thead>\n",
              "    <tr style=\"text-align: right;\">\n",
              "      <th></th>\n",
              "      <th>Cars</th>\n",
              "      <th>Bluecar counter</th>\n",
              "      <th>Utilib counter</th>\n",
              "      <th>Utilib 1.4 counter</th>\n",
              "      <th>Charge Slots</th>\n",
              "      <th>Charging Status</th>\n",
              "      <th>City</th>\n",
              "      <th>ID</th>\n",
              "      <th>Kind</th>\n",
              "      <th>Postal code</th>\n",
              "      <th>Rental status</th>\n",
              "      <th>Slots</th>\n",
              "      <th>Station type</th>\n",
              "      <th>Status</th>\n",
              "      <th>year</th>\n",
              "      <th>month</th>\n",
              "      <th>day</th>\n",
              "      <th>hour</th>\n",
              "      <th>minute</th>\n",
              "      <th>Timestamp</th>\n",
              "    </tr>\n",
              "  </thead>\n",
              "  <tbody>\n",
              "    <tr>\n",
              "      <th>0</th>\n",
              "      <td>0</td>\n",
              "      <td>0</td>\n",
              "      <td>0</td>\n",
              "      <td>0</td>\n",
              "      <td>0</td>\n",
              "      <td>nonexistent</td>\n",
              "      <td>Paris</td>\n",
              "      <td>paris-suffren-2</td>\n",
              "      <td>STATION</td>\n",
              "      <td>75015</td>\n",
              "      <td>operational</td>\n",
              "      <td>2</td>\n",
              "      <td>station</td>\n",
              "      <td>ok</td>\n",
              "      <td>2018</td>\n",
              "      <td>4</td>\n",
              "      <td>8</td>\n",
              "      <td>11</td>\n",
              "      <td>43</td>\n",
              "      <td>2018-04-08 11:43:00</td>\n",
              "    </tr>\n",
              "    <tr>\n",
              "      <th>1</th>\n",
              "      <td>6</td>\n",
              "      <td>6</td>\n",
              "      <td>0</td>\n",
              "      <td>0</td>\n",
              "      <td>0</td>\n",
              "      <td>operational</td>\n",
              "      <td>Paris</td>\n",
              "      <td>paris-raymondlosserand-145</td>\n",
              "      <td>STATION</td>\n",
              "      <td>75014</td>\n",
              "      <td>operational</td>\n",
              "      <td>0</td>\n",
              "      <td>station</td>\n",
              "      <td>ok</td>\n",
              "      <td>2018</td>\n",
              "      <td>4</td>\n",
              "      <td>6</td>\n",
              "      <td>7</td>\n",
              "      <td>24</td>\n",
              "      <td>2018-04-06 07:24:00</td>\n",
              "    </tr>\n",
              "    <tr>\n",
              "      <th>2</th>\n",
              "      <td>3</td>\n",
              "      <td>3</td>\n",
              "      <td>0</td>\n",
              "      <td>2</td>\n",
              "      <td>0</td>\n",
              "      <td>operational</td>\n",
              "      <td>Le Bourget</td>\n",
              "      <td>lebourget-johnfitzgeraldkennedy-2</td>\n",
              "      <td>STATION</td>\n",
              "      <td>93350</td>\n",
              "      <td>operational</td>\n",
              "      <td>1</td>\n",
              "      <td>station</td>\n",
              "      <td>ok</td>\n",
              "      <td>2018</td>\n",
              "      <td>4</td>\n",
              "      <td>3</td>\n",
              "      <td>20</td>\n",
              "      <td>14</td>\n",
              "      <td>2018-04-03 20:14:00</td>\n",
              "    </tr>\n",
              "    <tr>\n",
              "      <th>3</th>\n",
              "      <td>3</td>\n",
              "      <td>3</td>\n",
              "      <td>1</td>\n",
              "      <td>0</td>\n",
              "      <td>1</td>\n",
              "      <td>operational</td>\n",
              "      <td>Paris</td>\n",
              "      <td>paris-eugeneoudine-51</td>\n",
              "      <td>STATION</td>\n",
              "      <td>75013</td>\n",
              "      <td>operational</td>\n",
              "      <td>2</td>\n",
              "      <td>station</td>\n",
              "      <td>ok</td>\n",
              "      <td>2018</td>\n",
              "      <td>4</td>\n",
              "      <td>4</td>\n",
              "      <td>4</td>\n",
              "      <td>37</td>\n",
              "      <td>2018-04-04 04:37:00</td>\n",
              "    </tr>\n",
              "    <tr>\n",
              "      <th>4</th>\n",
              "      <td>3</td>\n",
              "      <td>3</td>\n",
              "      <td>0</td>\n",
              "      <td>0</td>\n",
              "      <td>0</td>\n",
              "      <td>nonexistent</td>\n",
              "      <td>Paris</td>\n",
              "      <td>paris-portedechamperret-6</td>\n",
              "      <td>PARKING</td>\n",
              "      <td>75017</td>\n",
              "      <td>operational</td>\n",
              "      <td>3</td>\n",
              "      <td>station</td>\n",
              "      <td>ok</td>\n",
              "      <td>2018</td>\n",
              "      <td>4</td>\n",
              "      <td>8</td>\n",
              "      <td>17</td>\n",
              "      <td>23</td>\n",
              "      <td>2018-04-08 17:23:00</td>\n",
              "    </tr>\n",
              "  </tbody>\n",
              "</table>\n",
              "</div>"
            ],
            "text/plain": [
              "   Cars  Bluecar counter  Utilib counter  ...  hour  minute           Timestamp\n",
              "0     0                0               0  ...    11      43 2018-04-08 11:43:00\n",
              "1     6                6               0  ...     7      24 2018-04-06 07:24:00\n",
              "2     3                3               0  ...    20      14 2018-04-03 20:14:00\n",
              "3     3                3               1  ...     4      37 2018-04-04 04:37:00\n",
              "4     3                3               0  ...    17      23 2018-04-08 17:23:00\n",
              "\n",
              "[5 rows x 20 columns]"
            ]
          },
          "metadata": {
            "tags": []
          },
          "execution_count": 11
        }
      ]
    },
    {
      "cell_type": "markdown",
      "metadata": {
        "id": "KuR0aqppocfj"
      },
      "source": [
        "**ANALYSIS**"
      ]
    },
    {
      "cell_type": "markdown",
      "metadata": {
        "id": "i-mP-L54b2u7"
      },
      "source": [
        "The most popular hour of the day for picking up a shared electric car (Bluecar) in the city of Paris."
      ]
    },
    {
      "cell_type": "code",
      "metadata": {
        "colab": {
          "base_uri": "https://localhost:8080/",
          "height": 402
        },
        "id": "t1CrM1cjdjdw",
        "outputId": "6ab66046-96f9-4f50-8895-9001e206ddf9"
      },
      "source": [
        "#To find the most popular hour of pickup we should first determine what are pick ups or drop offs .\r\n",
        "#This can only be told by the differences in counts over time in a given station\r\n",
        "# Create dataframe with blue car counter data\r\n",
        "stationchanges_blue_cars= Autolib_Timestamp.loc[:,['City','ID','Postal code','Bluecar counter','Timestamp','hour']]\r\n",
        "stationchanges_blue_cars\r\n"
      ],
      "execution_count": 13,
      "outputs": [
        {
          "output_type": "execute_result",
          "data": {
            "text/html": [
              "<div>\n",
              "<style scoped>\n",
              "    .dataframe tbody tr th:only-of-type {\n",
              "        vertical-align: middle;\n",
              "    }\n",
              "\n",
              "    .dataframe tbody tr th {\n",
              "        vertical-align: top;\n",
              "    }\n",
              "\n",
              "    .dataframe thead th {\n",
              "        text-align: right;\n",
              "    }\n",
              "</style>\n",
              "<table border=\"1\" class=\"dataframe\">\n",
              "  <thead>\n",
              "    <tr style=\"text-align: right;\">\n",
              "      <th></th>\n",
              "      <th>City</th>\n",
              "      <th>ID</th>\n",
              "      <th>Postal code</th>\n",
              "      <th>Bluecar counter</th>\n",
              "      <th>Timestamp</th>\n",
              "      <th>hour</th>\n",
              "    </tr>\n",
              "  </thead>\n",
              "  <tbody>\n",
              "    <tr>\n",
              "      <th>0</th>\n",
              "      <td>Paris</td>\n",
              "      <td>paris-suffren-2</td>\n",
              "      <td>75015</td>\n",
              "      <td>0</td>\n",
              "      <td>2018-04-08 11:43:00</td>\n",
              "      <td>11</td>\n",
              "    </tr>\n",
              "    <tr>\n",
              "      <th>1</th>\n",
              "      <td>Paris</td>\n",
              "      <td>paris-raymondlosserand-145</td>\n",
              "      <td>75014</td>\n",
              "      <td>6</td>\n",
              "      <td>2018-04-06 07:24:00</td>\n",
              "      <td>7</td>\n",
              "    </tr>\n",
              "    <tr>\n",
              "      <th>2</th>\n",
              "      <td>Le Bourget</td>\n",
              "      <td>lebourget-johnfitzgeraldkennedy-2</td>\n",
              "      <td>93350</td>\n",
              "      <td>3</td>\n",
              "      <td>2018-04-03 20:14:00</td>\n",
              "      <td>20</td>\n",
              "    </tr>\n",
              "    <tr>\n",
              "      <th>3</th>\n",
              "      <td>Paris</td>\n",
              "      <td>paris-eugeneoudine-51</td>\n",
              "      <td>75013</td>\n",
              "      <td>3</td>\n",
              "      <td>2018-04-04 04:37:00</td>\n",
              "      <td>4</td>\n",
              "    </tr>\n",
              "    <tr>\n",
              "      <th>4</th>\n",
              "      <td>Paris</td>\n",
              "      <td>paris-portedechamperret-6</td>\n",
              "      <td>75017</td>\n",
              "      <td>3</td>\n",
              "      <td>2018-04-08 17:23:00</td>\n",
              "      <td>17</td>\n",
              "    </tr>\n",
              "    <tr>\n",
              "      <th>...</th>\n",
              "      <td>...</td>\n",
              "      <td>...</td>\n",
              "      <td>...</td>\n",
              "      <td>...</td>\n",
              "      <td>...</td>\n",
              "      <td>...</td>\n",
              "    </tr>\n",
              "    <tr>\n",
              "      <th>4995</th>\n",
              "      <td>Colombes</td>\n",
              "      <td>colombes-menelotte-8</td>\n",
              "      <td>92700</td>\n",
              "      <td>2</td>\n",
              "      <td>2018-04-06 11:26:00</td>\n",
              "      <td>11</td>\n",
              "    </tr>\n",
              "    <tr>\n",
              "      <th>4996</th>\n",
              "      <td>Paris</td>\n",
              "      <td>paris-dantzig-37</td>\n",
              "      <td>75015</td>\n",
              "      <td>4</td>\n",
              "      <td>2018-04-04 16:56:00</td>\n",
              "      <td>16</td>\n",
              "    </tr>\n",
              "    <tr>\n",
              "      <th>4997</th>\n",
              "      <td>Paris</td>\n",
              "      <td>paris-bac-142</td>\n",
              "      <td>75007</td>\n",
              "      <td>1</td>\n",
              "      <td>2018-04-01 07:01:00</td>\n",
              "      <td>7</td>\n",
              "    </tr>\n",
              "    <tr>\n",
              "      <th>4998</th>\n",
              "      <td>Fontenay-Sous-Bois</td>\n",
              "      <td>fontenaysousbois-valdefontenay-2</td>\n",
              "      <td>94120</td>\n",
              "      <td>2</td>\n",
              "      <td>2018-04-04 17:27:00</td>\n",
              "      <td>17</td>\n",
              "    </tr>\n",
              "    <tr>\n",
              "      <th>4999</th>\n",
              "      <td>Paris</td>\n",
              "      <td>paris-henrybrisson-5</td>\n",
              "      <td>75018</td>\n",
              "      <td>4</td>\n",
              "      <td>2018-04-08 10:02:00</td>\n",
              "      <td>10</td>\n",
              "    </tr>\n",
              "  </tbody>\n",
              "</table>\n",
              "<p>5000 rows × 6 columns</p>\n",
              "</div>"
            ],
            "text/plain": [
              "                    City  ... hour\n",
              "0                  Paris  ...   11\n",
              "1                  Paris  ...    7\n",
              "2             Le Bourget  ...   20\n",
              "3                  Paris  ...    4\n",
              "4                  Paris  ...   17\n",
              "...                  ...  ...  ...\n",
              "4995            Colombes  ...   11\n",
              "4996               Paris  ...   16\n",
              "4997               Paris  ...    7\n",
              "4998  Fontenay-Sous-Bois  ...   17\n",
              "4999               Paris  ...   10\n",
              "\n",
              "[5000 rows x 6 columns]"
            ]
          },
          "metadata": {
            "tags": []
          },
          "execution_count": 13
        }
      ]
    },
    {
      "cell_type": "code",
      "metadata": {
        "colab": {
          "base_uri": "https://localhost:8080/",
          "height": 402
        },
        "id": "zhbaNY9O1tp0",
        "outputId": "6141a8bb-42b5-44ba-ed17-1fbed30db887"
      },
      "source": [
        "#Sort the stationchanges_blue_cars dataframe using Timestamp column\r\n",
        "\r\n",
        "stationchanges_blue_cars=stationchanges_blue_cars.sort_values(by='Timestamp',ascending=True)\r\n",
        "stationchanges_blue_cars"
      ],
      "execution_count": 17,
      "outputs": [
        {
          "output_type": "execute_result",
          "data": {
            "text/html": [
              "<div>\n",
              "<style scoped>\n",
              "    .dataframe tbody tr th:only-of-type {\n",
              "        vertical-align: middle;\n",
              "    }\n",
              "\n",
              "    .dataframe tbody tr th {\n",
              "        vertical-align: top;\n",
              "    }\n",
              "\n",
              "    .dataframe thead th {\n",
              "        text-align: right;\n",
              "    }\n",
              "</style>\n",
              "<table border=\"1\" class=\"dataframe\">\n",
              "  <thead>\n",
              "    <tr style=\"text-align: right;\">\n",
              "      <th></th>\n",
              "      <th>City</th>\n",
              "      <th>ID</th>\n",
              "      <th>Postal code</th>\n",
              "      <th>Bluecar counter</th>\n",
              "      <th>Timestamp</th>\n",
              "      <th>hour</th>\n",
              "    </tr>\n",
              "  </thead>\n",
              "  <tbody>\n",
              "    <tr>\n",
              "      <th>1046</th>\n",
              "      <td>Paris</td>\n",
              "      <td>paris-monge-112</td>\n",
              "      <td>75005</td>\n",
              "      <td>0</td>\n",
              "      <td>2018-04-01 00:00:00</td>\n",
              "      <td>0</td>\n",
              "    </tr>\n",
              "    <tr>\n",
              "      <th>1107</th>\n",
              "      <td>Paris</td>\n",
              "      <td>paris-madeleinetronchet-parking</td>\n",
              "      <td>75008</td>\n",
              "      <td>0</td>\n",
              "      <td>2018-04-01 00:02:00</td>\n",
              "      <td>0</td>\n",
              "    </tr>\n",
              "    <tr>\n",
              "      <th>2874</th>\n",
              "      <td>Paris</td>\n",
              "      <td>paris-sebastienmercier-44</td>\n",
              "      <td>75015</td>\n",
              "      <td>0</td>\n",
              "      <td>2018-04-01 00:02:00</td>\n",
              "      <td>0</td>\n",
              "    </tr>\n",
              "    <tr>\n",
              "      <th>2059</th>\n",
              "      <td>Paris</td>\n",
              "      <td>paris-mozart-2</td>\n",
              "      <td>75016</td>\n",
              "      <td>1</td>\n",
              "      <td>2018-04-01 00:03:00</td>\n",
              "      <td>0</td>\n",
              "    </tr>\n",
              "    <tr>\n",
              "      <th>4453</th>\n",
              "      <td>Paris</td>\n",
              "      <td>paris-neuvesaintpierre-2</td>\n",
              "      <td>75004</td>\n",
              "      <td>0</td>\n",
              "      <td>2018-04-01 00:04:00</td>\n",
              "      <td>0</td>\n",
              "    </tr>\n",
              "    <tr>\n",
              "      <th>...</th>\n",
              "      <td>...</td>\n",
              "      <td>...</td>\n",
              "      <td>...</td>\n",
              "      <td>...</td>\n",
              "      <td>...</td>\n",
              "      <td>...</td>\n",
              "    </tr>\n",
              "    <tr>\n",
              "      <th>2672</th>\n",
              "      <td>Paris</td>\n",
              "      <td>paris-gerbert-11</td>\n",
              "      <td>75015</td>\n",
              "      <td>2</td>\n",
              "      <td>2018-04-09 23:48:00</td>\n",
              "      <td>23</td>\n",
              "    </tr>\n",
              "    <tr>\n",
              "      <th>2552</th>\n",
              "      <td>CrÃ©teil</td>\n",
              "      <td>creteil-denfertrochereau-12</td>\n",
              "      <td>94000</td>\n",
              "      <td>2</td>\n",
              "      <td>2018-04-09 23:48:00</td>\n",
              "      <td>23</td>\n",
              "    </tr>\n",
              "    <tr>\n",
              "      <th>4582</th>\n",
              "      <td>Paris</td>\n",
              "      <td>paris-crimee-82</td>\n",
              "      <td>75019</td>\n",
              "      <td>5</td>\n",
              "      <td>2018-04-09 23:56:00</td>\n",
              "      <td>23</td>\n",
              "    </tr>\n",
              "    <tr>\n",
              "      <th>3201</th>\n",
              "      <td>Paris</td>\n",
              "      <td>paris-notredamedesvictoires-21</td>\n",
              "      <td>75002</td>\n",
              "      <td>0</td>\n",
              "      <td>2018-04-09 23:58:00</td>\n",
              "      <td>23</td>\n",
              "    </tr>\n",
              "    <tr>\n",
              "      <th>4443</th>\n",
              "      <td>Paris</td>\n",
              "      <td>paris-faubourgmontmartre-31</td>\n",
              "      <td>75009</td>\n",
              "      <td>0</td>\n",
              "      <td>2018-04-09 23:58:00</td>\n",
              "      <td>23</td>\n",
              "    </tr>\n",
              "  </tbody>\n",
              "</table>\n",
              "<p>5000 rows × 6 columns</p>\n",
              "</div>"
            ],
            "text/plain": [
              "          City                               ID  ...           Timestamp  hour\n",
              "1046     Paris                  paris-monge-112  ... 2018-04-01 00:00:00     0\n",
              "1107     Paris  paris-madeleinetronchet-parking  ... 2018-04-01 00:02:00     0\n",
              "2874     Paris        paris-sebastienmercier-44  ... 2018-04-01 00:02:00     0\n",
              "2059     Paris                   paris-mozart-2  ... 2018-04-01 00:03:00     0\n",
              "4453     Paris         paris-neuvesaintpierre-2  ... 2018-04-01 00:04:00     0\n",
              "...        ...                              ...  ...                 ...   ...\n",
              "2672     Paris                 paris-gerbert-11  ... 2018-04-09 23:48:00    23\n",
              "2552  CrÃ©teil      creteil-denfertrochereau-12  ... 2018-04-09 23:48:00    23\n",
              "4582     Paris                  paris-crimee-82  ... 2018-04-09 23:56:00    23\n",
              "3201     Paris   paris-notredamedesvictoires-21  ... 2018-04-09 23:58:00    23\n",
              "4443     Paris      paris-faubourgmontmartre-31  ... 2018-04-09 23:58:00    23\n",
              "\n",
              "[5000 rows x 6 columns]"
            ]
          },
          "metadata": {
            "tags": []
          },
          "execution_count": 17
        }
      ]
    },
    {
      "cell_type": "code",
      "metadata": {
        "colab": {
          "base_uri": "https://localhost:8080/",
          "height": 402
        },
        "id": "NElUmC-Y6GYu",
        "outputId": "89abc6dd-8706-4398-99db-3dd587d3dabc"
      },
      "source": [
        "#Next Sort the stationchanges_blue_cars dataframe by  Postal code and Respective ID\r\n",
        "stationchanges_blue_cars=stationchanges_blue_cars.sort_values(by=['ID','Postal code'],ascending=True)\r\n",
        "stationchanges_blue_cars\r\n"
      ],
      "execution_count": 25,
      "outputs": [
        {
          "output_type": "execute_result",
          "data": {
            "text/html": [
              "<div>\n",
              "<style scoped>\n",
              "    .dataframe tbody tr th:only-of-type {\n",
              "        vertical-align: middle;\n",
              "    }\n",
              "\n",
              "    .dataframe tbody tr th {\n",
              "        vertical-align: top;\n",
              "    }\n",
              "\n",
              "    .dataframe thead th {\n",
              "        text-align: right;\n",
              "    }\n",
              "</style>\n",
              "<table border=\"1\" class=\"dataframe\">\n",
              "  <thead>\n",
              "    <tr style=\"text-align: right;\">\n",
              "      <th></th>\n",
              "      <th>City</th>\n",
              "      <th>ID</th>\n",
              "      <th>Postal code</th>\n",
              "      <th>Bluecar counter</th>\n",
              "      <th>Timestamp</th>\n",
              "      <th>hour</th>\n",
              "    </tr>\n",
              "  </thead>\n",
              "  <tbody>\n",
              "    <tr>\n",
              "      <th>1352</th>\n",
              "      <td>Alfortville</td>\n",
              "      <td>alfortville-blanqui-61</td>\n",
              "      <td>94140</td>\n",
              "      <td>0</td>\n",
              "      <td>2018-04-02 19:28:00</td>\n",
              "      <td>19</td>\n",
              "    </tr>\n",
              "    <tr>\n",
              "      <th>4528</th>\n",
              "      <td>Alfortville</td>\n",
              "      <td>alfortville-blanqui-61</td>\n",
              "      <td>94140</td>\n",
              "      <td>0</td>\n",
              "      <td>2018-04-04 09:05:00</td>\n",
              "      <td>9</td>\n",
              "    </tr>\n",
              "    <tr>\n",
              "      <th>4880</th>\n",
              "      <td>Alfortville</td>\n",
              "      <td>alfortville-blanqui-61</td>\n",
              "      <td>94140</td>\n",
              "      <td>0</td>\n",
              "      <td>2018-04-07 18:40:00</td>\n",
              "      <td>18</td>\n",
              "    </tr>\n",
              "    <tr>\n",
              "      <th>1693</th>\n",
              "      <td>Alfortville</td>\n",
              "      <td>alfortville-blanqui-61</td>\n",
              "      <td>94140</td>\n",
              "      <td>0</td>\n",
              "      <td>2018-04-09 09:01:00</td>\n",
              "      <td>9</td>\n",
              "    </tr>\n",
              "    <tr>\n",
              "      <th>4424</th>\n",
              "      <td>Alfortville</td>\n",
              "      <td>alfortville-charlesdegaulle-16</td>\n",
              "      <td>94140</td>\n",
              "      <td>2</td>\n",
              "      <td>2018-04-01 00:36:00</td>\n",
              "      <td>0</td>\n",
              "    </tr>\n",
              "    <tr>\n",
              "      <th>...</th>\n",
              "      <td>...</td>\n",
              "      <td>...</td>\n",
              "      <td>...</td>\n",
              "      <td>...</td>\n",
              "      <td>...</td>\n",
              "      <td>...</td>\n",
              "    </tr>\n",
              "    <tr>\n",
              "      <th>1944</th>\n",
              "      <td>Yerres</td>\n",
              "      <td>yerres-pierrebrossolette-92</td>\n",
              "      <td>91330</td>\n",
              "      <td>0</td>\n",
              "      <td>2018-04-08 19:34:00</td>\n",
              "      <td>19</td>\n",
              "    </tr>\n",
              "    <tr>\n",
              "      <th>1975</th>\n",
              "      <td>Yerres</td>\n",
              "      <td>yerres-pierrebrossolette-92</td>\n",
              "      <td>91330</td>\n",
              "      <td>0</td>\n",
              "      <td>2018-04-09 14:43:00</td>\n",
              "      <td>14</td>\n",
              "    </tr>\n",
              "    <tr>\n",
              "      <th>614</th>\n",
              "      <td>Yerres</td>\n",
              "      <td>yerres-pierrebrossolette-92</td>\n",
              "      <td>91330</td>\n",
              "      <td>6</td>\n",
              "      <td>2018-04-07 05:40:00</td>\n",
              "      <td>5</td>\n",
              "    </tr>\n",
              "    <tr>\n",
              "      <th>1485</th>\n",
              "      <td>Yerres</td>\n",
              "      <td>yerres-pierrebrossolette-92</td>\n",
              "      <td>91330</td>\n",
              "      <td>5</td>\n",
              "      <td>2018-04-07 19:59:00</td>\n",
              "      <td>19</td>\n",
              "    </tr>\n",
              "    <tr>\n",
              "      <th>4092</th>\n",
              "      <td>Yerres</td>\n",
              "      <td>yerres-raymondpoincare-200</td>\n",
              "      <td>91330</td>\n",
              "      <td>2</td>\n",
              "      <td>2018-04-02 15:55:00</td>\n",
              "      <td>15</td>\n",
              "    </tr>\n",
              "  </tbody>\n",
              "</table>\n",
              "<p>5000 rows × 6 columns</p>\n",
              "</div>"
            ],
            "text/plain": [
              "             City                              ID  ...           Timestamp  hour\n",
              "1352  Alfortville          alfortville-blanqui-61  ... 2018-04-02 19:28:00    19\n",
              "4528  Alfortville          alfortville-blanqui-61  ... 2018-04-04 09:05:00     9\n",
              "4880  Alfortville          alfortville-blanqui-61  ... 2018-04-07 18:40:00    18\n",
              "1693  Alfortville          alfortville-blanqui-61  ... 2018-04-09 09:01:00     9\n",
              "4424  Alfortville  alfortville-charlesdegaulle-16  ... 2018-04-01 00:36:00     0\n",
              "...           ...                             ...  ...                 ...   ...\n",
              "1944       Yerres     yerres-pierrebrossolette-92  ... 2018-04-08 19:34:00    19\n",
              "1975       Yerres     yerres-pierrebrossolette-92  ... 2018-04-09 14:43:00    14\n",
              "614        Yerres     yerres-pierrebrossolette-92  ... 2018-04-07 05:40:00     5\n",
              "1485       Yerres     yerres-pierrebrossolette-92  ... 2018-04-07 19:59:00    19\n",
              "4092       Yerres      yerres-raymondpoincare-200  ... 2018-04-02 15:55:00    15\n",
              "\n",
              "[5000 rows x 6 columns]"
            ]
          },
          "metadata": {
            "tags": []
          },
          "execution_count": 25
        }
      ]
    },
    {
      "cell_type": "markdown",
      "metadata": {
        "id": "Eug4H3sjAO8V"
      },
      "source": [
        "Determine PICKS and DROPS\r\n",
        "When the change is negative it means a car left thus a pick\r\n",
        "When the change is positivetive it means an arrival thus a drop"
      ]
    },
    {
      "cell_type": "code",
      "metadata": {
        "colab": {
          "base_uri": "https://localhost:8080/",
          "height": 444
        },
        "id": "JzNlvLl78X6G",
        "outputId": "42e8e53f-23b4-43c1-cf07-8157a6d824d1"
      },
      "source": [
        "#Determine PICKS and DROPS\r\n",
        "#When the change is negative it means a car left thus a pick\r\n",
        "#When the change is positivetive it means an arrival thus a drop\r\n",
        "stationchanges_blue_cars['Change'] = stationchanges_blue_cars['Bluecar counter'].diff()\r\n",
        "stationchanges_blue_cars= stationchanges_blue_cars[stationchanges_blue_cars.Change != 0]\r\n",
        "stationchanges_blue_cars['Action']=np.where(stationchanges_blue_cars['Change']>0, 'Drop', 'Pick')\r\n",
        "stationchanges_blue_cars.head(10)"
      ],
      "execution_count": 29,
      "outputs": [
        {
          "output_type": "stream",
          "text": [
            "/usr/local/lib/python3.6/dist-packages/ipykernel_launcher.py:6: SettingWithCopyWarning: \n",
            "A value is trying to be set on a copy of a slice from a DataFrame.\n",
            "Try using .loc[row_indexer,col_indexer] = value instead\n",
            "\n",
            "See the caveats in the documentation: https://pandas.pydata.org/pandas-docs/stable/user_guide/indexing.html#returning-a-view-versus-a-copy\n",
            "  \n"
          ],
          "name": "stderr"
        },
        {
          "output_type": "execute_result",
          "data": {
            "text/html": [
              "<div>\n",
              "<style scoped>\n",
              "    .dataframe tbody tr th:only-of-type {\n",
              "        vertical-align: middle;\n",
              "    }\n",
              "\n",
              "    .dataframe tbody tr th {\n",
              "        vertical-align: top;\n",
              "    }\n",
              "\n",
              "    .dataframe thead th {\n",
              "        text-align: right;\n",
              "    }\n",
              "</style>\n",
              "<table border=\"1\" class=\"dataframe\">\n",
              "  <thead>\n",
              "    <tr style=\"text-align: right;\">\n",
              "      <th></th>\n",
              "      <th>City</th>\n",
              "      <th>ID</th>\n",
              "      <th>Postal code</th>\n",
              "      <th>Bluecar counter</th>\n",
              "      <th>Timestamp</th>\n",
              "      <th>hour</th>\n",
              "      <th>Change</th>\n",
              "      <th>Action</th>\n",
              "    </tr>\n",
              "  </thead>\n",
              "  <tbody>\n",
              "    <tr>\n",
              "      <th>1352</th>\n",
              "      <td>Alfortville</td>\n",
              "      <td>alfortville-blanqui-61</td>\n",
              "      <td>94140</td>\n",
              "      <td>0</td>\n",
              "      <td>2018-04-02 19:28:00</td>\n",
              "      <td>19</td>\n",
              "      <td>NaN</td>\n",
              "      <td>Pick</td>\n",
              "    </tr>\n",
              "    <tr>\n",
              "      <th>4424</th>\n",
              "      <td>Alfortville</td>\n",
              "      <td>alfortville-charlesdegaulle-16</td>\n",
              "      <td>94140</td>\n",
              "      <td>2</td>\n",
              "      <td>2018-04-01 00:36:00</td>\n",
              "      <td>0</td>\n",
              "      <td>2.0</td>\n",
              "      <td>Drop</td>\n",
              "    </tr>\n",
              "    <tr>\n",
              "      <th>1843</th>\n",
              "      <td>Alfortville</td>\n",
              "      <td>alfortville-charlesdegaulle-16</td>\n",
              "      <td>94140</td>\n",
              "      <td>4</td>\n",
              "      <td>2018-04-01 01:36:00</td>\n",
              "      <td>1</td>\n",
              "      <td>2.0</td>\n",
              "      <td>Drop</td>\n",
              "    </tr>\n",
              "    <tr>\n",
              "      <th>4986</th>\n",
              "      <td>Alfortville</td>\n",
              "      <td>alfortville-charlesdegaulle-16</td>\n",
              "      <td>94140</td>\n",
              "      <td>3</td>\n",
              "      <td>2018-04-03 04:03:00</td>\n",
              "      <td>4</td>\n",
              "      <td>-1.0</td>\n",
              "      <td>Pick</td>\n",
              "    </tr>\n",
              "    <tr>\n",
              "      <th>2677</th>\n",
              "      <td>Alfortville</td>\n",
              "      <td>alfortville-charlesdegaulle-16</td>\n",
              "      <td>94140</td>\n",
              "      <td>4</td>\n",
              "      <td>2018-04-03 22:27:00</td>\n",
              "      <td>22</td>\n",
              "      <td>1.0</td>\n",
              "      <td>Drop</td>\n",
              "    </tr>\n",
              "    <tr>\n",
              "      <th>3218</th>\n",
              "      <td>Alfortville</td>\n",
              "      <td>alfortville-charlesdegaulle-16</td>\n",
              "      <td>94140</td>\n",
              "      <td>6</td>\n",
              "      <td>2018-04-04 03:30:00</td>\n",
              "      <td>3</td>\n",
              "      <td>2.0</td>\n",
              "      <td>Drop</td>\n",
              "    </tr>\n",
              "    <tr>\n",
              "      <th>1923</th>\n",
              "      <td>Alfortville</td>\n",
              "      <td>alfortville-etiennedolet-174</td>\n",
              "      <td>94140</td>\n",
              "      <td>4</td>\n",
              "      <td>2018-04-06 07:52:00</td>\n",
              "      <td>7</td>\n",
              "      <td>-2.0</td>\n",
              "      <td>Pick</td>\n",
              "    </tr>\n",
              "    <tr>\n",
              "      <th>3642</th>\n",
              "      <td>Alfortville</td>\n",
              "      <td>alfortville-etiennedolet-174</td>\n",
              "      <td>94140</td>\n",
              "      <td>1</td>\n",
              "      <td>2018-04-04 09:40:00</td>\n",
              "      <td>9</td>\n",
              "      <td>-3.0</td>\n",
              "      <td>Pick</td>\n",
              "    </tr>\n",
              "    <tr>\n",
              "      <th>2724</th>\n",
              "      <td>Alfortville</td>\n",
              "      <td>alfortville-europe-22</td>\n",
              "      <td>94140</td>\n",
              "      <td>0</td>\n",
              "      <td>2018-04-01 15:11:00</td>\n",
              "      <td>15</td>\n",
              "      <td>-1.0</td>\n",
              "      <td>Pick</td>\n",
              "    </tr>\n",
              "    <tr>\n",
              "      <th>4744</th>\n",
              "      <td>Alfortville</td>\n",
              "      <td>alfortville-jeanbaptistepreux-17</td>\n",
              "      <td>94140</td>\n",
              "      <td>4</td>\n",
              "      <td>2018-04-07 08:15:00</td>\n",
              "      <td>8</td>\n",
              "      <td>4.0</td>\n",
              "      <td>Drop</td>\n",
              "    </tr>\n",
              "  </tbody>\n",
              "</table>\n",
              "</div>"
            ],
            "text/plain": [
              "             City                                ID  ...  Change  Action\n",
              "1352  Alfortville            alfortville-blanqui-61  ...     NaN    Pick\n",
              "4424  Alfortville    alfortville-charlesdegaulle-16  ...     2.0    Drop\n",
              "1843  Alfortville    alfortville-charlesdegaulle-16  ...     2.0    Drop\n",
              "4986  Alfortville    alfortville-charlesdegaulle-16  ...    -1.0    Pick\n",
              "2677  Alfortville    alfortville-charlesdegaulle-16  ...     1.0    Drop\n",
              "3218  Alfortville    alfortville-charlesdegaulle-16  ...     2.0    Drop\n",
              "1923  Alfortville      alfortville-etiennedolet-174  ...    -2.0    Pick\n",
              "3642  Alfortville      alfortville-etiennedolet-174  ...    -3.0    Pick\n",
              "2724  Alfortville             alfortville-europe-22  ...    -1.0    Pick\n",
              "4744  Alfortville  alfortville-jeanbaptistepreux-17  ...     4.0    Drop\n",
              "\n",
              "[10 rows x 8 columns]"
            ]
          },
          "metadata": {
            "tags": []
          },
          "execution_count": 29
        }
      ]
    },
    {
      "cell_type": "code",
      "metadata": {
        "colab": {
          "base_uri": "https://localhost:8080/",
          "height": 283
        },
        "id": "2UUmLYSRAd_z",
        "outputId": "46d56887-312e-4e1b-ce15-724d73970692"
      },
      "source": [
        "#Now determine the most popular hour of the day for picking.\r\n",
        "\r\n",
        "fig, axs = plt.subplots(figsize=(12, 4))\r\n",
        "\r\n",
        "stationchanges_blue_cars_picks=stationchanges_blue_cars[stationchanges_blue_cars['Change'] < 0]\r\n",
        "stationchanges_blue_cars_picks.groupby(stationchanges_blue_cars_picks[\"hour\"])[\"Change\"].sum().plot(kind='bar', rot=0, ax=axs)\r\n",
        " \r\n",
        "plt.xlabel(\"Hour of the day\");  # custom x label using matplotlib\r\n",
        "\r\n",
        "plt.ylabel(\"Number of pickups\");\r\n",
        "\r\n"
      ],
      "execution_count": 31,
      "outputs": [
        {
          "output_type": "display_data",
          "data": {
            "image/png": "[encoded data removed]",
            "text/plain": [
              "<Figure size 864x288 with 1 Axes>"
            ]
          },
          "metadata": {
            "tags": [],
            "needs_background": "light"
          }
        }
      ]
    },
    {
      "cell_type": "code",
      "metadata": {
        "colab": {
          "base_uri": "https://localhost:8080/",
          "height": 281
        },
        "id": "HOXEAa2ZGGM-",
        "outputId": "033bb23f-81a1-4a32-9cd4-fb057ca5a789"
      },
      "source": [
        "#The most popular hour of the day for picking up a shared electric car (Bluecar) in the city of Paris.\r\n",
        "stationchanges_blue_cars_picks_paris=stationchanges_blue_cars[stationchanges_blue_cars['City'] =='Paris' ]\r\n",
        "\r\n",
        "\r\n",
        "#Paris_pickups= pd.DataFrame(stationchanges_blue_cars_picks_paris.hour.value_counts().sort_values(ascending=False))\r\n",
        "#Paris_pickups\r\n",
        "fig, axs = plt.subplots(figsize=(12, 4))\r\n",
        "stationchanges_blue_cars_picks_paris.groupby(stationchanges_blue_cars_picks_paris[\"hour\"])[\"Change\"].sum().plot(kind='bar', rot=0, ax=axs)\r\n",
        " \r\n",
        "plt.xlabel(\"Paris Hour of the day\");  # custom x label using matplotlib\r\n",
        "\r\n",
        "plt.ylabel(\"Paris Number of pickups/drops\");\r\n"
      ],
      "execution_count": 41,
      "outputs": [
        {
          "output_type": "display_data",
          "data": {
            "image/png": "[encoded data removed]",
            "text/plain": [
              "<Figure size 864x288 with 1 Axes>"
            ]
          },
          "metadata": {
            "tags": [],
            "needs_background": "light"
          }
        }
      ]
    },
    {
      "cell_type": "code",
      "metadata": {
        "colab": {
          "base_uri": "https://localhost:8080/",
          "height": 279
        },
        "id": "fqLjDEEXFT8G",
        "outputId": "7351e97a-8b10-4215-ffed-bfc0b81b9fb1"
      },
      "source": [
        "#Now determine the most popular hour of the day for droping.\r\n",
        "\r\n",
        "fig, axs = plt.subplots(figsize=(12, 4))\r\n",
        "\r\n",
        "stationchanges_blue_cars_drops=stationchanges_blue_cars[stationchanges_blue_cars['Change'] > 0]\r\n",
        "stationchanges_blue_cars_drops.groupby(stationchanges_blue_cars_drops[\"hour\"])[\"Change\"].sum().plot(kind='bar', rot=0, ax=axs)\r\n",
        " \r\n",
        "plt.xlabel(\"Hour of the day\");  # custom x label using matplotlib\r\n",
        "\r\n",
        "plt.ylabel(\"Number of drops\");"
      ],
      "execution_count": 32,
      "outputs": [
        {
          "output_type": "display_data",
          "data": {
            "image/png": "[encoded data removed]",
            "text/plain": [
              "<Figure size 864x288 with 1 Axes>"
            ]
          },
          "metadata": {
            "tags": [],
            "needs_background": "light"
          }
        }
      ]
    },
    {
      "cell_type": "code",
      "metadata": {
        "colab": {
          "base_uri": "https://localhost:8080/",
          "height": 225
        },
        "id": "uofB0QKcKsqS",
        "outputId": "9210e1f8-6fea-45e1-ec3c-ba79a448a246"
      },
      "source": [
        "#The most popular station\r\n",
        "\r\n",
        "popular_station = stationchanges_blue_cars.groupby([stationchanges_blue_cars['Action'],'City','ID'])[\"Change\"].sum().sort_values(ascending=False)\r\n",
        "\r\n",
        "popular_station= pd.DataFrame(popular_station)\r\n",
        "popular_station.head(5)"
      ],
      "execution_count": 48,
      "outputs": [
        {
          "output_type": "execute_result",
          "data": {
            "text/html": [
              "<div>\n",
              "<style scoped>\n",
              "    .dataframe tbody tr th:only-of-type {\n",
              "        vertical-align: middle;\n",
              "    }\n",
              "\n",
              "    .dataframe tbody tr th {\n",
              "        vertical-align: top;\n",
              "    }\n",
              "\n",
              "    .dataframe thead th {\n",
              "        text-align: right;\n",
              "    }\n",
              "</style>\n",
              "<table border=\"1\" class=\"dataframe\">\n",
              "  <thead>\n",
              "    <tr style=\"text-align: right;\">\n",
              "      <th></th>\n",
              "      <th></th>\n",
              "      <th></th>\n",
              "      <th>Change</th>\n",
              "    </tr>\n",
              "    <tr>\n",
              "      <th>Action</th>\n",
              "      <th>City</th>\n",
              "      <th>ID</th>\n",
              "      <th></th>\n",
              "    </tr>\n",
              "  </thead>\n",
              "  <tbody>\n",
              "    <tr>\n",
              "      <th rowspan=\"5\" valign=\"top\">Drop</th>\n",
              "      <th rowspan=\"3\" valign=\"top\">Paris</th>\n",
              "      <th>paris-portedemontrouge-8</th>\n",
              "      <td>19.0</td>\n",
              "    </tr>\n",
              "    <tr>\n",
              "      <th>paris-philippeauguste-126</th>\n",
              "      <td>18.0</td>\n",
              "    </tr>\n",
              "    <tr>\n",
              "      <th>paris-republique-128</th>\n",
              "      <td>13.0</td>\n",
              "    </tr>\n",
              "    <tr>\n",
              "      <th>Alfortville</th>\n",
              "      <th>alfortville-malleret-16</th>\n",
              "      <td>13.0</td>\n",
              "    </tr>\n",
              "    <tr>\n",
              "      <th>Paris</th>\n",
              "      <th>paris-bremontier-19</th>\n",
              "      <td>13.0</td>\n",
              "    </tr>\n",
              "  </tbody>\n",
              "</table>\n",
              "</div>"
            ],
            "text/plain": [
              "                                              Change\n",
              "Action City        ID                               \n",
              "Drop   Paris       paris-portedemontrouge-8     19.0\n",
              "                   paris-philippeauguste-126    18.0\n",
              "                   paris-republique-128         13.0\n",
              "       Alfortville alfortville-malleret-16      13.0\n",
              "       Paris       paris-bremontier-19          13.0"
            ]
          },
          "metadata": {
            "tags": []
          },
          "execution_count": 48
        }
      ]
    }
  ]
}